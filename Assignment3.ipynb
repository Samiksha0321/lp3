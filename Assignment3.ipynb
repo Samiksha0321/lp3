{
  "nbformat": 4,
  "nbformat_minor": 0,
  "metadata": {
    "colab": {
      "name": "Assignment3.ipynb",
      "provenance": []
    },
    "kernelspec": {
      "name": "python3",
      "display_name": "Python 3"
    },
    "language_info": {
      "name": "python"
    }
  },
  "cells": [
    {
      "cell_type": "markdown",
      "source": [
        "## Assignment 3\n",
        "K-NN Classifier"
      ],
      "metadata": {
        "id": "hWgvithkFCL4"
      }
    },
    {
      "cell_type": "code",
      "source": [
        "import numpy as np"
      ],
      "metadata": {
        "id": "SQSqboFeK5MT"
      },
      "execution_count": null,
      "outputs": []
    },
    {
      "cell_type": "code",
      "source": [
        "class kNN:\n",
        "  def __init__(self, k):\n",
        "    self.k = k\n",
        "    self.X = []\n",
        "    self.y = []\n",
        "\n",
        "  def fit(self, X, y):\n",
        "    self.X = self.X + X\n",
        "    self.y = self.y + y\n",
        "\n",
        "  def __distance(self, x, y):\n",
        "    return (x[0] - y[0]) ** 2 + (x[1] - y[1]) ** 2\n",
        "\n",
        "  def __get_class(self, X):\n",
        "    distances = []\n",
        "    for i in range(len(self.X)):\n",
        "      distances.append((self.__distance(X, self.X[i]), self.y[i]))\n",
        "    distances.sort()\n",
        "    distances = distances[:self.k]\n",
        "    counts = {}\n",
        "    for d in distances:\n",
        "      try: counts[d[1]] += 1\n",
        "      except: counts[d[1]] = 1\n",
        "    return max(counts, key = lambda i: counts[i])\n",
        "\n",
        "  def predict(self, X):\n",
        "    preds = []\n",
        "    for x in X:\n",
        "      preds.append(self.__get_class(x))\n",
        "    return preds\n",
        "\n",
        "  def __get_weighted_class(self, X):\n",
        "    distances = []\n",
        "    for i in range(len(self.X)):\n",
        "      distances.append((self.__distance(X, self.X[i]), self.y[i]))\n",
        "    distances.sort()\n",
        "    distances = distances[:self.k]\n",
        "    counts = {}\n",
        "    for d in distances:\n",
        "      try: counts[d[1]] += 1 / d[0]\n",
        "      except: counts[d[1]] = 1 / d[0]\n",
        "    return max(counts, key = lambda i: counts[i])\n",
        "\n",
        "  def predict_weighted(self, X):\n",
        "    preds = []\n",
        "    for x in X:\n",
        "      preds.append(self.__get_weighted_class(x))\n",
        "    return preds\n",
        "\n",
        "  def __get_locally_weighted_average_class(self, X):\n",
        "    distances = []\n",
        "    for i in range(len(self.X)):\n",
        "      distances.append((self.__distance(X, self.X[i]), self.y[i]))\n",
        "    distances.sort()\n",
        "    distances = distances[:self.k]\n",
        "    counts = {}\n",
        "    for d in distances:\n",
        "      try: counts[d[1]].append(1 / d[0])\n",
        "      except: counts[d[1]] = [1 / d[0]]\n",
        "    for c in counts:\n",
        "      counts[c] = np.mean(counts[c])\n",
        "    return max(counts, key = lambda i: counts[i])\n",
        "\n",
        "  def predict_locally_weighted_average(self, X):\n",
        "    preds = []\n",
        "    for x in X:\n",
        "      preds.append(self.__get_weighted_class(x))\n",
        "    return preds"
      ],
      "metadata": {
        "id": "WYey_XdQ67nC"
      },
      "execution_count": null,
      "outputs": []
    },
    {
      "cell_type": "code",
      "source": [
        "X = [\n",
        "     (2, 4),\n",
        "     (4, 6),\n",
        "     (4, 4),\n",
        "     (4, 2),\n",
        "     (6, 4),\n",
        "     (6 ,2)\n",
        "]\n",
        "y = ['Y', 'Y', 'B', 'Y', 'Y', 'B']"
      ],
      "metadata": {
        "id": "tCLkc9qnG5WA"
      },
      "execution_count": null,
      "outputs": []
    },
    {
      "cell_type": "code",
      "source": [
        "model = kNN(3)"
      ],
      "metadata": {
        "id": "UAzURS0CI3hp"
      },
      "execution_count": null,
      "outputs": []
    },
    {
      "cell_type": "code",
      "source": [
        "model.fit(X, y)"
      ],
      "metadata": {
        "id": "Qs2VUefNI6KA"
      },
      "execution_count": null,
      "outputs": []
    },
    {
      "cell_type": "code",
      "source": [
        "print(f'Standard k-NN: {model.predict([(6, 6)])}')"
      ],
      "metadata": {
        "colab": {
          "base_uri": "https://localhost:8080/"
        },
        "id": "X8J3rNSlLUUA",
        "outputId": "d9970196-2059-4bbc-e3c4-48d2e46c19d9"
      },
      "execution_count": null,
      "outputs": [
        {
          "output_type": "stream",
          "name": "stdout",
          "text": [
            "Standard k-NN: ['Y']\n"
          ]
        }
      ]
    },
    {
      "cell_type": "code",
      "source": [
        "print(f'Distance Weighted k-NN: {model.predict_weighted([(6, 6)])}')"
      ],
      "metadata": {
        "colab": {
          "base_uri": "https://localhost:8080/"
        },
        "id": "D0j78URcI7qq",
        "outputId": "ae59c5d2-4e64-43f6-846b-d5276478e8c3"
      },
      "execution_count": null,
      "outputs": [
        {
          "output_type": "stream",
          "name": "stdout",
          "text": [
            "Distance Weighted k-NN: ['Y']\n"
          ]
        }
      ]
    },
    {
      "cell_type": "code",
      "source": [
        "print(f'Locally Weighted Average k-NN: {model.predict_locally_weighted_average([(6, 6)])}')"
      ],
      "metadata": {
        "colab": {
          "base_uri": "https://localhost:8080/"
        },
        "id": "eM-ohehRI_OW",
        "outputId": "27de9db7-1ec7-4be3-d5cb-936957f972e9"
      },
      "execution_count": null,
      "outputs": [
        {
          "output_type": "stream",
          "name": "stdout",
          "text": [
            "Locally Weighted Average k-NN: ['Y']\n"
          ]
        }
      ]
    }
  ]
}